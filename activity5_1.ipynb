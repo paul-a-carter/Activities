{
 "cells": [
  {
   "cell_type": "markdown",
   "metadata": {},
   "source": [
    "1. Create a list using the following list of average summer temperatures (in degrees Celsius) and name it 'templist':\n",
    "30, 33, 27, 25"
   ]
  },
  {
   "cell_type": "code",
   "execution_count": 4,
   "metadata": {},
   "outputs": [
    {
     "name": "stdout",
     "output_type": "stream",
     "text": [
      "[30, 33, 27, 25]\n"
     ]
    }
   ],
   "source": [
    "# Your Code Here\n",
    "\n",
    "templist = [30,33,27,25]\n",
    "\n",
    "print(templist)"
   ]
  },
  {
   "cell_type": "markdown",
   "metadata": {},
   "source": [
    "2. Create an array using the following list of average summer temperatures (in degrees Celsius) and name it 'temparray':\n",
    "30, 33, 27, 25"
   ]
  },
  {
   "cell_type": "code",
   "execution_count": 3,
   "metadata": {},
   "outputs": [
    {
     "name": "stdout",
     "output_type": "stream",
     "text": [
      "[30 33 27 25]\n"
     ]
    }
   ],
   "source": [
    "# Your Code Here\n",
    "\n",
    "import numpy as np\n",
    "\n",
    "temparray = np.array([30,33,27,25])\n",
    "\n",
    "print(temparray)"
   ]
  },
  {
   "cell_type": "markdown",
   "metadata": {},
   "source": [
    "3. Convert templist and temparray to Farenheit. Which one was easier?"
   ]
  },
  {
   "cell_type": "code",
   "execution_count": 12,
   "metadata": {},
   "outputs": [
    {
     "name": "stdout",
     "output_type": "stream",
     "text": [
      "[86.0, 91.4, 80.6, 77.0]\n",
      "[86.  91.4 80.6 77. ]\n"
     ]
    }
   ],
   "source": [
    "# Your Code Here\n",
    "\n",
    "templist_f = []\n",
    "\n",
    "for x in templist:\n",
    "    x = x*1.8+32\n",
    "    templist_f.append(x)\n",
    "\n",
    "print(templist_f)\n",
    "\n",
    "temparray_f = temparray*1.8+32\n",
    "print(temparray_f)"
   ]
  },
  {
   "cell_type": "markdown",
   "metadata": {},
   "source": [
    "4. Create an array using the following list of summer temperatures:\n",
    "- 85, 77, 87, 93, 105 (NOTE: Numbers are in Farenheit)\n",
    "- 31, 34, 28, (NOTE: Numbers are in Celsius)\n",
    "\n",
    "Concatenate the first array with the second and print the result. The entire array should be in Fareinheit."
   ]
  },
  {
   "cell_type": "code",
   "execution_count": null,
   "metadata": {},
   "outputs": [],
   "source": [
    "# Your Code Here"
   ]
  },
  {
   "cell_type": "markdown",
   "metadata": {},
   "source": [
    "5. Sort the above array from lowest to heighest temperature and print the result"
   ]
  },
  {
   "cell_type": "code",
   "execution_count": null,
   "metadata": {},
   "outputs": [],
   "source": [
    "# Your Code Here"
   ]
  },
  {
   "cell_type": "markdown",
   "metadata": {},
   "source": [
    "6. Calculate the mean, median, and standard deviation of temparray. Print the results."
   ]
  },
  {
   "cell_type": "code",
   "execution_count": null,
   "metadata": {},
   "outputs": [],
   "source": [
    "# Your Code Here"
   ]
  },
  {
   "cell_type": "markdown",
   "metadata": {},
   "source": [
    "7. Create a 3x3 matrix with the following values: \n",
    "2, 4, 6\n",
    "1, 3, 5\n",
    "7, 9, 11"
   ]
  },
  {
   "cell_type": "code",
   "execution_count": null,
   "metadata": {},
   "outputs": [],
   "source": [
    "# Your Code Here"
   ]
  },
  {
   "cell_type": "markdown",
   "metadata": {},
   "source": [
    "8. Create an array named 'evenNumbers' containing all even numbers from 2 to 20 (inclusive) using Numpy's arange method."
   ]
  },
  {
   "cell_type": "code",
   "execution_count": null,
   "metadata": {},
   "outputs": [],
   "source": [
    "# Your Code Here"
   ]
  },
  {
   "cell_type": "markdown",
   "metadata": {},
   "source": [
    "9. Reshape the 'evenNumbers' array into a 5x2 matrix and print the result."
   ]
  },
  {
   "cell_type": "code",
   "execution_count": null,
   "metadata": {},
   "outputs": [],
   "source": [
    "# Your Code Here"
   ]
  }
 ],
 "metadata": {
  "kernelspec": {
   "display_name": "Python 3",
   "language": "python",
   "name": "python3"
  },
  "language_info": {
   "codemirror_mode": {
    "name": "ipython",
    "version": 3
   },
   "file_extension": ".py",
   "mimetype": "text/x-python",
   "name": "python",
   "nbconvert_exporter": "python",
   "pygments_lexer": "ipython3",
   "version": "3.11.4"
  },
  "orig_nbformat": 4
 },
 "nbformat": 4,
 "nbformat_minor": 2
}
