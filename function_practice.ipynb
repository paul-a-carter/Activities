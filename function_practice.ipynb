{
 "cells": [
  {
   "attachments": {},
   "cell_type": "markdown",
   "metadata": {},
   "source": [
    "1. Write a function that accepts 2 string parameters (first_name, last_name) and concatenate the two parameters to return full_name. "
   ]
  },
  {
   "cell_type": "code",
   "execution_count": 4,
   "metadata": {},
   "outputs": [
    {
     "data": {
      "text/plain": [
       "'Paul Carter'"
      ]
     },
     "execution_count": 4,
     "metadata": {},
     "output_type": "execute_result"
    }
   ],
   "source": [
    "def full_name(firstname,lastname):\n",
    "    return firstname + \" \" + lastname\n",
    "\n",
    "# create your own test case down here by passing your first name and last name into the function\n",
    "\n",
    "full_name(\"Paul\",\"Carter\")"
   ]
  },
  {
   "attachments": {},
   "cell_type": "markdown",
   "metadata": {},
   "source": [
    "2. Write a function that accepts two integers as parameters. This function should take those two parameters and multiply them and return the result."
   ]
  },
  {
   "cell_type": "code",
   "execution_count": 5,
   "metadata": {},
   "outputs": [
    {
     "data": {
      "text/plain": [
       "810"
      ]
     },
     "execution_count": 5,
     "metadata": {},
     "output_type": "execute_result"
    }
   ],
   "source": [
    "def multiply_int(x,y):\n",
    "    return x*y\n",
    "\n",
    "# test case \n",
    "\n",
    "multiply_int(30, 27)"
   ]
  },
  {
   "attachments": {},
   "cell_type": "markdown",
   "metadata": {},
   "source": [
    "3.  Write a function that takes in a string and returns the string with all the vowels\n",
    "    removed (\"aeiouAEIOU\"). Test it using the following code (you should see no output):"
   ]
  },
  {
   "cell_type": "code",
   "execution_count": 16,
   "metadata": {},
   "outputs": [
    {
     "data": {
      "text/plain": [
       "' rlly njy th Dt nlytcs nd Pythn prgrm t SvvyCdrs'"
      ]
     },
     "execution_count": 16,
     "metadata": {},
     "output_type": "execute_result"
    }
   ],
   "source": [
    "def remove_vowels(string):\n",
    "    #hint: initialize and set an empty string to add letters to \n",
    "    newString = \"\"\n",
    "    \n",
    "    for x in string:\n",
    "        if x in \"aeiouAEIOU\":\n",
    "            continue\n",
    "        newString += x\n",
    "    return newString\n",
    "\n",
    "#test case \n",
    "string = \"I really enjoy the Data Analytics and Python program at SavvyCoders\"\n",
    "remove_vowels(string)"
   ]
  },
  {
   "attachments": {},
   "cell_type": "markdown",
   "metadata": {},
   "source": [
    "4. Write a function called km_to_miles that takes kilometers as a parameter, converts it into miles and returns the result. 1 km = 0.621371 miles"
   ]
  },
  {
   "cell_type": "code",
   "execution_count": 18,
   "metadata": {},
   "outputs": [
    {
     "data": {
      "text/plain": [
       "31.068550000000002"
      ]
     },
     "execution_count": 18,
     "metadata": {},
     "output_type": "execute_result"
    }
   ],
   "source": [
    "def km_to_miles(value):\n",
    "    return value*0.621371\n",
    "\n",
    "\n",
    "#test case \n",
    "km_to_miles(50)"
   ]
  },
  {
   "attachments": {},
   "cell_type": "markdown",
   "metadata": {},
   "source": [
    "5.  Write a function, fizzbuzz, with a single integer argument named value. If the value is evenly divisible by three, return the string “fizz”. It the value is evenly divisible by five, return the string “buzz”. If the value is evenly divisible by both three and five, return fizzbuzz. Finally, if none of these apply, return an empty string."
   ]
  },
  {
   "cell_type": "code",
   "execution_count": null,
   "metadata": {},
   "outputs": [],
   "source": [
    "def fizzbuzz(value):\n",
    "   pass #delete pass and write code here \n",
    "\n",
    "\n",
    "\n",
    "#test case\n",
    "values = [3,6,9,11,10,20,40,23,15,30,60]\n",
    "\n",
    "for value in values:\n",
    "    print(fizzbuzz(value), end =\",\")"
   ]
  }
 ],
 "metadata": {
  "kernelspec": {
   "display_name": "Python 3",
   "language": "python",
   "name": "python3"
  },
  "language_info": {
   "codemirror_mode": {
    "name": "ipython",
    "version": 3
   },
   "file_extension": ".py",
   "mimetype": "text/x-python",
   "name": "python",
   "nbconvert_exporter": "python",
   "pygments_lexer": "ipython3",
   "version": "3.11.4"
  },
  "orig_nbformat": 4
 },
 "nbformat": 4,
 "nbformat_minor": 2
}
