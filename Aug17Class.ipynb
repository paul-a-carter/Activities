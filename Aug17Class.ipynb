{
 "cells": [
  {
   "cell_type": "markdown",
   "metadata": {},
   "source": [
    "1. Write a program which asks the user for a whole number. If the inputted number is odd print ‘Odd’, if not ('else') print ‘Even’.\n",
    "   Bonus: Ensure the program can run if something other than a whole number (integer) is entered by the user, providing a message that \"This is not a whole number.\""
   ]
  },
  {
   "cell_type": "code",
   "execution_count": 28,
   "metadata": {},
   "outputs": [
    {
     "name": "stdout",
     "output_type": "stream",
     "text": [
      "This is not a whole number.\n"
     ]
    }
   ],
   "source": [
    "try:   \n",
    "    if int(input(\"Enter a whole number: \")) % 2 == 0:\n",
    "        print(\"Even\")\n",
    "    else:\n",
    "        print(\"Odd\")\n",
    "except: print(\"This is not a whole number.\")"
   ]
  },
  {
   "cell_type": "markdown",
   "metadata": {},
   "source": [
    "2. Write a program to print counting from 1 to 15.\n",
    "    Bonus: Print only every 3rd number (3, 6, 9...)"
   ]
  },
  {
   "cell_type": "code",
   "execution_count": 50,
   "metadata": {},
   "outputs": [
    {
     "name": "stdout",
     "output_type": "stream",
     "text": [
      "1 2 3 4 5 6 7 8 9 10 11 12 13 14 15 \n",
      "\n",
      "3 6 9 12 15 "
     ]
    }
   ],
   "source": [
    "for i in range(1,16):\n",
    "    print(i,end=\" \")\n",
    "\n",
    "print(\"\\n\")\n",
    "\n",
    "for x in range(3,16,3):\n",
    "    print(x,end=\" \")"
   ]
  }
 ],
 "metadata": {
  "kernelspec": {
   "display_name": "Python 3",
   "language": "python",
   "name": "python3"
  },
  "language_info": {
   "codemirror_mode": {
    "name": "ipython",
    "version": 3
   },
   "file_extension": ".py",
   "mimetype": "text/x-python",
   "name": "python",
   "nbconvert_exporter": "python",
   "pygments_lexer": "ipython3",
   "version": "3.11.4"
  },
  "orig_nbformat": 4
 },
 "nbformat": 4,
 "nbformat_minor": 2
}
