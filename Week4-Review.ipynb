{
 "cells": [
  {
   "cell_type": "code",
   "execution_count": 3,
   "metadata": {},
   "outputs": [
    {
     "name": "stdout",
     "output_type": "stream",
     "text": [
      "No bumper stickers for you\n"
     ]
    }
   ],
   "source": [
    "#Create an if statement: if 'AVGgrade' is greater than or equal to 80, print \"You're on the honor roll\"\n",
    "#however if 'grade' is less than 80, print \"No bumper stickers for you\"\n",
    "\n",
    "AVGgrade = int(input(\"What is your kid's average grade? \"))\n",
    "\n",
    "if AVGgrade >= 80:\n",
    "    print(\"You're on the honor roll\")\n",
    "else:\n",
    "    print(\"No bumper stickers for you\")"
   ]
  },
  {
   "cell_type": "code",
   "execution_count": 9,
   "metadata": {},
   "outputs": [
    {
     "name": "stdout",
     "output_type": "stream",
     "text": [
      "ioaua,ueo.\n",
      "\n",
      "31\n"
     ]
    }
   ],
   "source": [
    "# Loop over the following string to (1) count all the characters in the string, excluding the spaces, and (2) print out all the vowels and punctuation\n",
    "# \"Sphinx of black quartz, judge my vow.\"\n",
    "\n",
    "count = 0\n",
    "\n",
    "for char in \"Sphinx of black quartz, judge my vow.\":\n",
    "    if char != \" \":\n",
    "        count += 1\n",
    "    if char in \"AEIOUaeiou,.\":\n",
    "        print(char,end=\"\")\n",
    "\n",
    "print(\"\\n\")\n",
    "print(count)"
   ]
  },
  {
   "cell_type": "code",
   "execution_count": 20,
   "metadata": {},
   "outputs": [
    {
     "name": "stdout",
     "output_type": "stream",
     "text": [
      "['Captain America', 'Captain Marvel', 'Black Panther', 'Batgirl', 'Green Lantern', 'Iron Man', 'Thor', 'Spiderman', 'Wonder Woman']\n",
      "['Batgirl', 'Black Panther', 'Captain America', 'Captain Marvel', 'Green Lantern', 'Iron Man', 'Spiderman', 'Thor', 'Wonder Woman']\n",
      "['Batgirl', 'Black Panther', 'Captain America', 'Captain Marvel', 'Green Lantern', 'Iron Man', 'Spiderman', 'Thor', 'Wonder Woman', 'Catwoman', 'Ant-Man', 'Aquaman']\n",
      "['Batgirl', 'Black Panther', 'Captain America', 'Captain Marvel', 'Green Lantern', 'Daredevil', 'Spiderman', 'Thor', 'Wonder Woman', 'Catwoman', 'Ant-Man', 'Aquaman']\n",
      "['Thor', 'Wonder Woman']\n"
     ]
    }
   ],
   "source": [
    "# 1. Use the insert method to add \"Spiderman\" as the 8th item in the heroes list. \n",
    "#[\"Captain America\", \"Captain Marvel\", \"Black Panther\", \"Batgirl\", \"Green Lantern\", \"Iron Man\", \"Thor\", \"Wonder Woman\"]\n",
    "# 2. Sort the list of heroes\n",
    "# 3. Append \"Catwoman\", \"Ant-Man\", and \"Aquaman\"\n",
    "# 4. Change \"Iron Man\" to \"Daredevil\"\n",
    "# 5. Use negative indexing to print the 5th and 4th last items\n",
    "\n",
    "heroes = [\"Captain America\", \"Captain Marvel\", \"Black Panther\", \"Batgirl\", \"Green Lantern\", \"Iron Man\", \"Thor\", \"Wonder Woman\"]\n",
    "heroes.insert(7,\"Spiderman\")\n",
    "print(heroes)\n",
    "heroes.sort()\n",
    "print(heroes)\n",
    "heroes.append(\"Catwoman\")\n",
    "heroes.append(\"Ant-Man\")\n",
    "heroes.append(\"Aquaman\")\n",
    "print(heroes)\n",
    "heroes[5] = \"Daredevil\"\n",
    "print(heroes)\n",
    "print(heroes[-5:-3])"
   ]
  },
  {
   "cell_type": "code",
   "execution_count": 35,
   "metadata": {},
   "outputs": [
    {
     "name": "stdout",
     "output_type": "stream",
     "text": [
      "2023-08-24 20:53:32.655470\n",
      "34\n",
      "Thursday\n"
     ]
    }
   ],
   "source": [
    "# Using the Date Time module, get the current date and time\n",
    "# Print the current week number of the year\n",
    "# Print the full weekday name\n",
    "\n",
    "import datetime as dt\n",
    "\n",
    "print(dt.datetime.now())\n",
    "time = dt.datetime.now()\n",
    "print(time.strftime(\"%U\"))\n",
    "print(time.strftime(\"%A\"))"
   ]
  },
  {
   "cell_type": "code",
   "execution_count": 38,
   "metadata": {},
   "outputs": [
    {
     "name": "stdout",
     "output_type": "stream",
     "text": [
      "3.0\n",
      "14.0\n",
      "68719476736.0\n"
     ]
    }
   ],
   "source": [
    "# Using the Math Module, find the remainder when 11 is divided by 8\n",
    "#Find the square root of 196\n",
    "#Find what is 8 to the power of 12\n",
    "\n",
    "import math as m\n",
    "\n",
    "print(m.remainder(11,8))\n",
    "print(m.sqrt(196))\n",
    "print(m.pow(8,12))"
   ]
  }
 ],
 "metadata": {
  "kernelspec": {
   "display_name": "Python 3",
   "language": "python",
   "name": "python3"
  },
  "language_info": {
   "codemirror_mode": {
    "name": "ipython",
    "version": 3
   },
   "file_extension": ".py",
   "mimetype": "text/x-python",
   "name": "python",
   "nbconvert_exporter": "python",
   "pygments_lexer": "ipython3",
   "version": "3.11.4"
  },
  "orig_nbformat": 4
 },
 "nbformat": 4,
 "nbformat_minor": 2
}
