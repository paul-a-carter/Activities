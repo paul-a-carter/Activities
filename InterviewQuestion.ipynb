{
 "cells": [
  {
   "cell_type": "code",
   "execution_count": null,
   "metadata": {},
   "outputs": [],
   "source": [
    "# Take a random variable\n",
    "#     If it's greater than 5, say it's greater than 5\n",
    "#     If it's less than 5, say it's less than 5\n",
    "#     If it's 5, say it's five"
   ]
  },
  {
   "cell_type": "code",
   "execution_count": 41,
   "metadata": {},
   "outputs": [
    {
     "name": "stdout",
     "output_type": "stream",
     "text": [
      "8 is greater than five!\n"
     ]
    }
   ],
   "source": [
    "import random\n",
    "\n",
    "def isFive():\n",
    "    num=random.randrange(0,11)\n",
    "    if num > 5:\n",
    "        print(str(num) + \" is greater than five!\")\n",
    "    if num < 5:\n",
    "        print(str(num) + \" is less than five!\")\n",
    "    if num == 5:\n",
    "        print(str(num) + \" is five!\")\n",
    "\n",
    "isFive()"
   ]
  },
  {
   "cell_type": "code",
   "execution_count": null,
   "metadata": {},
   "outputs": [],
   "source": [
    "# Take in a string\n",
    "#     If the string forwards is the same as the string backwords, print true\n",
    "#     If the string forwards is NOT the same as the string backwords, print false"
   ]
  },
  {
   "cell_type": "code",
   "execution_count": 40,
   "metadata": {},
   "outputs": [
    {
     "name": "stdout",
     "output_type": "stream",
     "text": [
      "true\n"
     ]
    }
   ],
   "source": [
    "def isPalindrome(randomString):\n",
    "    if randomString == randomString[::-1]:\n",
    "        print(\"true\")\n",
    "    else:\n",
    "        print(\"false\")\n",
    "\n",
    "isPalindrome(\"racecar\")\n"
   ]
  }
 ],
 "metadata": {
  "kernelspec": {
   "display_name": "Python 3",
   "language": "python",
   "name": "python3"
  },
  "language_info": {
   "codemirror_mode": {
    "name": "ipython",
    "version": 3
   },
   "file_extension": ".py",
   "mimetype": "text/x-python",
   "name": "python",
   "nbconvert_exporter": "python",
   "pygments_lexer": "ipython3",
   "version": "3.11.4"
  },
  "orig_nbformat": 4
 },
 "nbformat": 4,
 "nbformat_minor": 2
}
