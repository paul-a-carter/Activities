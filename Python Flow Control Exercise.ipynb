{
 "cells": [
  {
   "cell_type": "code",
   "execution_count": 2,
   "metadata": {},
   "outputs": [
    {
     "name": "stdout",
     "output_type": "stream",
     "text": [
      "1\n",
      "2\n",
      "3\n",
      "4\n",
      "5\n",
      "6\n",
      "7\n",
      "8\n",
      "9\n",
      "10\n"
     ]
    }
   ],
   "source": [
    "for i in range(1,11):\n",
    "    print(i)"
   ]
  },
  {
   "cell_type": "code",
   "execution_count": 6,
   "metadata": {},
   "outputs": [
    {
     "name": "stdout",
     "output_type": "stream",
     "text": [
      "1\n",
      "2\n",
      "3\n",
      "4\n",
      "5\n",
      "6\n",
      "7\n",
      "8\n",
      "9\n",
      "10\n"
     ]
    }
   ],
   "source": [
    "number = 1\n",
    "\n",
    "while number < 11:\n",
    "    print(number)\n",
    "    number += 1"
   ]
  },
  {
   "cell_type": "code",
   "execution_count": 8,
   "metadata": {},
   "outputs": [
    {
     "name": "stdout",
     "output_type": "stream",
     "text": [
      "4 8 12 16 20 24 28 32 36 40 44 48 52 56 60 64 68 72 76 80 84 88 92 96 100 "
     ]
    }
   ],
   "source": [
    "for i in range(1,101):\n",
    "    if i % 4 == 0:\n",
    "        print(i,end=\" \")\n",
    "    else:\n",
    "        continue"
   ]
  },
  {
   "cell_type": "code",
   "execution_count": 11,
   "metadata": {},
   "outputs": [
    {
     "name": "stdout",
     "output_type": "stream",
     "text": [
      "oieaeoeIaaioEAoe"
     ]
    }
   ],
   "source": [
    "for char in \"Python is pretty awesome. I can't wait to LEARN more\":\n",
    "    if char in \"AEIOUaeiou\":\n",
    "        print(char,end=\"\")\n",
    "    else:\n",
    "        continue"
   ]
  },
  {
   "cell_type": "code",
   "execution_count": 12,
   "metadata": {},
   "outputs": [
    {
     "name": "stdout",
     "output_type": "stream",
     "text": [
      "Corvette Ruby Red\n",
      "Corvette Python Green\n",
      "Corvette Java Brown\n",
      "Corvette C++ Yellow\n",
      "Corvette Full Stack Rainbow\n",
      "Corvette Savvy Coders Blue\n",
      "Camaro Ruby Red\n",
      "Camaro Python Green\n",
      "Camaro Java Brown\n",
      "Camaro C++ Yellow\n",
      "Camaro Full Stack Rainbow\n",
      "Camaro Savvy Coders Blue\n",
      "Mustang Ruby Red\n",
      "Mustang Python Green\n",
      "Mustang Java Brown\n",
      "Mustang C++ Yellow\n",
      "Mustang Full Stack Rainbow\n",
      "Mustang Savvy Coders Blue\n",
      "Viper Ruby Red\n",
      "Viper Python Green\n",
      "Viper Java Brown\n",
      "Viper C++ Yellow\n",
      "Viper Full Stack Rainbow\n",
      "Viper Savvy Coders Blue\n",
      "Charger Ruby Red\n",
      "Charger Python Green\n",
      "Charger Java Brown\n",
      "Charger C++ Yellow\n",
      "Charger Full Stack Rainbow\n",
      "Charger Savvy Coders Blue\n"
     ]
    }
   ],
   "source": [
    "cars = ['Corvette', 'Camaro', 'Mustang', 'Viper', 'Charger']\n",
    "colors = ['Ruby Red', 'Python Green', 'Java Brown', 'C++ Yellow', 'Full Stack Rainbow','Savvy Coders Blue']\n",
    "\n",
    "for x in cars:\n",
    "    for y in colors:\n",
    "        print(x,y)"
   ]
  },
  {
   "cell_type": "markdown",
   "metadata": {},
   "source": [
    "The first step in using a **module** is to *import* the module."
   ]
  },
  {
   "cell_type": "markdown",
   "metadata": {},
   "source": [
    "7 Write a block of code that does the following\n",
    "- Asks for the users year of birth\n",
    "- Returns: \"Your body really hurts\" for users born before 1980,\"Your back hurts\" for users born between the start of 1980 and the end 0f 1989, \"Your back is starting to hurt\" for users born between the beginning of 1990 and the end of 1999, and \"Take care of your body so it doesn't hurt\" for all users born after the start of 2000"
   ]
  },
  {
   "cell_type": "code",
   "execution_count": 20,
   "metadata": {},
   "outputs": [
    {
     "name": "stdout",
     "output_type": "stream",
     "text": [
      "Take care of your body so it doesn't hurt\n"
     ]
    }
   ],
   "source": [
    "try:\n",
    "    age = int(input(\"What is your year of birth? \"))\n",
    "\n",
    "    if age < 1980:\n",
    "        print(\"Your body really hurts\")\n",
    "    elif age < 1990:\n",
    "        print(\"Your back hurts\")\n",
    "    elif age < 2000:\n",
    "        print(\"Your back is starting to hurt\")\n",
    "    else:\n",
    "        print(\"Take care of your body so it doesn't hurt\")\n",
    "except:\n",
    "    print(\"You input the year incorrectly\")\n"
   ]
  }
 ],
 "metadata": {
  "kernelspec": {
   "display_name": "Python 3",
   "language": "python",
   "name": "python3"
  },
  "language_info": {
   "codemirror_mode": {
    "name": "ipython",
    "version": 3
   },
   "file_extension": ".py",
   "mimetype": "text/x-python",
   "name": "python",
   "nbconvert_exporter": "python",
   "pygments_lexer": "ipython3",
   "version": "3.11.4"
  },
  "orig_nbformat": 4
 },
 "nbformat": 4,
 "nbformat_minor": 2
}
