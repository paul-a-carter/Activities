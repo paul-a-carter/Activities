{
 "cells": [
  {
   "cell_type": "code",
   "execution_count": 3,
   "metadata": {},
   "outputs": [
    {
     "name": "stdout",
     "output_type": "stream",
     "text": [
      "You got an A!!\n"
     ]
    }
   ],
   "source": [
    "grade = int(input(\"What did you score?  \"))\n",
    "\n",
    "if grade >= 80:\n",
    "    print(\"You got an A!!\")\n",
    "elif grade >= 60:\n",
    "    print(\"You got a B!\")\n",
    "elif grade >=50:\n",
    "    print(\"You got a C.\")\n",
    "elif grade >= 45:\n",
    "    print(\"You got a D..\")\n",
    "elif grade >=25:\n",
    "    print(\"You got an E...\")\n",
    "else:\n",
    "    print(\"You got an F!!!\")"
   ]
  }
 ],
 "metadata": {
  "kernelspec": {
   "display_name": "Python 3",
   "language": "python",
   "name": "python3"
  },
  "language_info": {
   "codemirror_mode": {
    "name": "ipython",
    "version": 3
   },
   "file_extension": ".py",
   "mimetype": "text/x-python",
   "name": "python",
   "nbconvert_exporter": "python",
   "pygments_lexer": "ipython3",
   "version": "3.11.4"
  },
  "orig_nbformat": 4
 },
 "nbformat": 4,
 "nbformat_minor": 2
}
